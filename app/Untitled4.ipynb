{
 "cells": [
  {
   "cell_type": "code",
   "execution_count": 14,
   "metadata": {},
   "outputs": [],
   "source": [
    "from queryset.models import Blog\n",
    "\n",
    "b = Blog(name='Beatles Blog')\n",
    "b.save()"
   ]
  },
  {
   "cell_type": "code",
   "execution_count": 15,
   "metadata": {},
   "outputs": [
    {
     "data": {
      "text/plain": [
       "5"
      ]
     },
     "execution_count": 15,
     "metadata": {},
     "output_type": "execute_result"
    }
   ],
   "source": [
    "b.pk"
   ]
  },
  {
   "cell_type": "code",
   "execution_count": 16,
   "metadata": {},
   "outputs": [
    {
     "data": {
      "text/plain": [
       "<Entry: Sample entry>"
      ]
     },
     "execution_count": 16,
     "metadata": {},
     "output_type": "execute_result"
    }
   ],
   "source": [
    "Entry.objects.create(blog=b, headline='Sample entry')"
   ]
  },
  {
   "cell_type": "code",
   "execution_count": 17,
   "metadata": {},
   "outputs": [
    {
     "name": "stdout",
     "output_type": "stream",
     "text": [
      "Beatles Blog\n",
      "Beatles Blog\n"
     ]
    }
   ],
   "source": [
    "# entry의 blog값을 변경\n",
    "entry = Entry.objects.first()\n",
    "print(entry.blog)\n",
    "cheese_blog= Blog.objects.get_or_create(name='Cheddaer Talk')[0]\n",
    "# enrty의 blog값 변경\n",
    "entry.bolg = cheese_blog\n",
    "\n",
    "# DB에서 entry의 blog값이 변경된느 시점\n",
    "entry.save()\n",
    "print(entry.blog)"
   ]
  },
  {
   "cell_type": "code",
   "execution_count": 20,
   "metadata": {},
   "outputs": [],
   "source": [
    "joe = Author.objects.create(name='joe')\n",
    "# Many-to-many필드에 내용을 추가, 이때는 save()를 호출하지 않아도 DB저장\n",
    "entry.authors.add(joe)"
   ]
  },
  {
   "cell_type": "code",
   "execution_count": 21,
   "metadata": {},
   "outputs": [
    {
     "data": {
      "text/plain": [
       "<QuerySet [<Author: joe>, <Author: joe>]>"
      ]
     },
     "execution_count": 21,
     "metadata": {},
     "output_type": "execute_result"
    }
   ],
   "source": [
    "entry.authors.all()"
   ]
  },
  {
   "cell_type": "code",
   "execution_count": 27,
   "metadata": {},
   "outputs": [
    {
     "data": {
      "text/plain": [
       "<django.db.models.manager.Manager at 0x10b234350>"
      ]
     },
     "execution_count": 27,
     "metadata": {},
     "output_type": "execute_result"
    }
   ],
   "source": [
    "Blog.objects"
   ]
  },
  {
   "cell_type": "code",
   "execution_count": 34,
   "metadata": {},
   "outputs": [],
   "source": [
    "import datetime\n",
    "\n",
    "q1 = Entry.objects.filter(headline__startswith='What')\n",
    "q2 = q1.exclude(pub_date__gte=datetime.date.today())\n",
    "q3 = q2.filter(pub_date__gte=datetime.date.today())"
   ]
  },
  {
   "cell_type": "code",
   "execution_count": 35,
   "metadata": {},
   "outputs": [
    {
     "name": "stdout",
     "output_type": "stream",
     "text": [
      "<class 'django.db.models.query.QuerySet'>\n"
     ]
    }
   ],
   "source": [
    "q = Entry.objects.all()\n",
    "print(type(q))"
   ]
  },
  {
   "cell_type": "code",
   "execution_count": 36,
   "metadata": {},
   "outputs": [
    {
     "name": "stdout",
     "output_type": "stream",
     "text": [
      "SELECT \"queryset_entry\".\"id\", \"queryset_entry\".\"blog_id\", \"queryset_entry\".\"headline\", \"queryset_entry\".\"pub_date\", \"queryset_entry\".\"number_of_comments\", \"queryset_entry\".\"number_of_likes\", \"queryset_entry\".\"rating\" FROM \"queryset_entry\"\n"
     ]
    }
   ],
   "source": [
    "print(q.query)"
   ]
  },
  {
   "cell_type": "code",
   "execution_count": 38,
   "metadata": {},
   "outputs": [
    {
     "data": {
      "text/plain": [
       "<QuerySet [<Blog: Beatles Blog>, <Blog: Beatles Blog>, <Blog: Cheddaer Talk>, <Blog: Beatles Blog>, <Blog: Beatles Blog>]>"
      ]
     },
     "execution_count": 38,
     "metadata": {},
     "output_type": "execute_result"
    }
   ],
   "source": [
    "Blog.objects.all()"
   ]
  },
  {
   "cell_type": "code",
   "execution_count": 56,
   "metadata": {},
   "outputs": [],
   "source": [
    "e1, e2, e3 = [\n",
    "    Entry.objects.create(\n",
    "        blog=Blog.objects.filter(name='Beatles Blog').first(),\n",
    "        headline=f'Beatles Entry {i}',\n",
    "    )\n",
    "    for i in range(3)\n",
    "]"
   ]
  },
  {
   "cell_type": "code",
   "execution_count": null,
   "metadata": {},
   "outputs": [],
   "source": []
  }
 ],
 "metadata": {
  "kernelspec": {
   "display_name": "Django Shell-Plus",
   "language": "python",
   "name": "django_extensions"
  },
  "language_info": {
   "codemirror_mode": {
    "name": "ipython",
    "version": 3
   },
   "file_extension": ".py",
   "mimetype": "text/x-python",
   "name": "python",
   "nbconvert_exporter": "python",
   "pygments_lexer": "ipython3",
   "version": "3.7.5"
  }
 },
 "nbformat": 4,
 "nbformat_minor": 2
}
